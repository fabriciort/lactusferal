{
  "nbformat": 4,
  "nbformat_minor": 0,
  "metadata": {
    "colab": {
      "provenance": [],
      "authorship_tag": "ABX9TyPhkDcBaTzZzoPyRB8EA7+Z",
      "include_colab_link": true
    },
    "kernelspec": {
      "name": "python3",
      "display_name": "Python 3"
    },
    "language_info": {
      "name": "python"
    }
  },
  "cells": [
    {
      "cell_type": "markdown",
      "metadata": {
        "id": "view-in-github",
        "colab_type": "text"
      },
      "source": [
        "<a href=\"https://colab.research.google.com/github/lactusferal/lactusferal/blob/main/PyRe_Learning_POLYNOMIALS.ipynb\" target=\"_parent\"><img src=\"https://colab.research.google.com/assets/colab-badge.svg\" alt=\"Open In Colab\"/></a>"
      ]
    },
    {
      "cell_type": "markdown",
      "source": [
        "## Polynomials\n",
        "\n",
        "#### Adding polynomials in Python"
      ],
      "metadata": {
        "id": "n_Q5zNAjFyTY"
      }
    },
    {
      "cell_type": "code",
      "source": [
        "import sympy as sym\n",
        "from IPython.display import display, Math\n",
        "from sympy.abc import x"
      ],
      "metadata": {
        "id": "m7A8IiKGHZaQ"
      },
      "execution_count": null,
      "outputs": []
    },
    {
      "cell_type": "code",
      "source": [
        "# For example, two polynomials p1 & p2;\n",
        "\n",
        "p1 = 2*x - 3*x**3\n",
        "p2 = 3*x + x**2\n",
        "\n",
        "# Converting the output, to LaTeX using the func ´display´ from the IPython Lib.\n",
        "# So rather than use the print() func, i'll be using the display func with the Math func as a parameter\n",
        "\n",
        "# display(Math(sym.latex(p1))) # With this func, we can organize the expression using the Sympy lib, and display.\n",
        "\n",
        "# Down bellow have a good way to add polynomials.\n",
        "# The parentheses in the 'Math' '%s' expression is just for easy visualization to identify the polynomial 1 to polynomial 2\n",
        "\n",
        "display(Math('(%s) + (%s) = %s' %(sym.latex(p1),sym.latex(p2),sym.latex(p1+p2))))\n",
        "\n",
        "'''\n",
        "  pt-BR now: Então o que vemos ao final é a soma dos polinômios, depois do sinal de igualdade\n",
        "  Reforçando não é necessario os parênteses nos polinômios, é somente para melhor visualização e identificar\n",
        "  de qual polinômio se trata, podemos so fazer o \"display\" da soma também como abaixo.\n",
        "'''\n",
        "print() # Linha vazia\n",
        "display(Math('%s' %(sym.latex(p1+p2)))) # <- Desta maneira se obtém somente o resultado.\n",
        "\n",
        "# Se observamos o resultado e os polinômios, eles estão devidamente organizados do fato maior para o menor\n",
        "# Sendo o resultado da mesma maneira, o primeiro termo elevado ao cubo, o segundo ao quadrado e o terceiro sem a potência.\n"
      ],
      "metadata": {
        "colab": {
          "base_uri": "https://localhost:8080/",
          "height": 77
        },
        "id": "xNBrtQHBIpqx",
        "outputId": "f5325c31-422a-40d7-c34b-f30bcf08b904"
      },
      "execution_count": null,
      "outputs": [
        {
          "output_type": "display_data",
          "data": {
            "text/plain": [
              "<IPython.core.display.Math object>"
            ],
            "text/latex": "$\\displaystyle (- 3 x^{3} + 2 x) + (x^{2} + 3 x) = - 3 x^{3} + x^{2} + 5 x$"
          },
          "metadata": {}
        },
        {
          "output_type": "stream",
          "name": "stdout",
          "text": [
            "\n"
          ]
        },
        {
          "output_type": "display_data",
          "data": {
            "text/plain": [
              "<IPython.core.display.Math object>"
            ],
            "text/latex": "$\\displaystyle - 3 x^{3} + x^{2} + 5 x$"
          },
          "metadata": {}
        }
      ]
    },
    {
      "cell_type": "code",
      "source": [
        "'''\n",
        "  Da mesma forma podemos subtrair dois polinômios, somente mudando o operador em ambas os parâmetros,\n",
        "  mudando a expressão dentro das aspas simples e alterando o operador aonde é chamada a função 'latex',\n",
        "  utilizando a lib Sympy, que importamos como \"sym\", então alteramos de \"sym.latex(p1+p2)\" para \"sym.latex(p1-p2)\"\n",
        "\n",
        "  Vou criar outros dois polinômios com termos diferentes para a subtração.\n",
        "'''\n",
        "\n",
        "p3 = -5*x**4 + 2*x**3 - x\n",
        "p4 = 4*x**2 - x\n",
        "\n",
        "display(Math('(%s) + (%s) = %s' %(sym.latex(p3),sym.latex(p4),sym.latex(p3-p4))))\n",
        "\n",
        "# Esta é uma maneira de criar uma soma e subtração de polinômios usando o modulo Sympy."
      ],
      "metadata": {
        "colab": {
          "base_uri": "https://localhost:8080/",
          "height": 38
        },
        "id": "3ofUop1INVBu",
        "outputId": "1219b9d6-1b0e-4e46-860e-2653a60e6e68"
      },
      "execution_count": null,
      "outputs": [
        {
          "output_type": "display_data",
          "data": {
            "text/plain": [
              "<IPython.core.display.Math object>"
            ],
            "text/latex": "$\\displaystyle (- 5 x^{4} + 2 x^{3} - x) + (4 x^{2} - x) = - 5 x^{4} + 2 x^{3} - 4 x^{2}$"
          },
          "metadata": {}
        }
      ]
    },
    {
      "cell_type": "code",
      "source": [
        "'''\n",
        "  Outra maneira, ainda usando o modulo Sympy, é utilizando uma função chamada \"Poly\", que podemos\n",
        "  chamar neste documento de sym.Poly() dentro de uma variável que estamos criando, e é dentro desta\n",
        "  função 'Poly()' que diretamente colocamos os polinômios, e se eu acessar a variavel com o type(),\n",
        "  obtemos o tipo dela \"sympy.polys.polytools.Poly\", e ao usar a função print() para visualizar o conteúdo da\n",
        "  variável, obtemos mais ou menos a seguinte sintaxe utilizando os polinômios abaixo:\n",
        "\n",
        "    Poly(3*x**3 + x**2 - x, x, domain='ZZ')\n",
        "    /\n",
        "    |_ `Poly` indica a função Poly do modulo Sympy;\n",
        "      |_Embutido aos parênteses temos o polinômio, e após o polinômio vemos a variável principal 'x'\n",
        "        |_`domain`, que basicamente significa o dominio dos coeficientes, no caso `ZZ`, todos inteiros.\n",
        "'''\n",
        "\n",
        "p5 = sym.Poly(x**2 - x + 3*x**3)\n",
        "p6 = sym.Poly(4*x**2 + 3*x**3 - x**2)\n",
        "\n",
        "# print(p5)\n",
        "\n",
        "'''\n",
        "  Usando essa 'classe' Poly, podemos substituir o 'x', por algum número usando a chamada `eval('NUMERO')\n",
        "\n",
        "  Por exemplo substituindo x por 0 para o polinômio p5, obtemos 0;\n",
        "  |_Ja que 0^2 - 0 + 3*0^3 = 0\n",
        "    \\_Substituindo por 2 temos 26 já que:\n",
        "                                         \\_ 2^2 - 2 + 3*2^3 = 26\n",
        "'''\n",
        "\n",
        "# p5.eval(0)\n",
        "p5.eval(2)\n",
        "\n",
        "'''\n",
        "  Podemos verificar os coeficientes dentro do polinômio usando o método `coeffs`, que nos traz\n",
        "  uma lista dos coeficientes presentes no polinômio.\n",
        "\n",
        "  A lista retornada é organizada da mesma maneira que os polinômios, no p5, o\n",
        "  coeficiente 3 está na ultima posição, porém ele é o primeiro da lista retornada, logo em seguida o 1,\n",
        "  que é o x^2 e o -1 que é o - x.\n",
        "'''\n",
        "\n",
        "p5.coeffs()\n"
      ],
      "metadata": {
        "colab": {
          "base_uri": "https://localhost:8080/"
        },
        "id": "DB1UXDO7Qi4q",
        "outputId": "19d4a89e-1512-4422-bad5-225168cff4fd"
      },
      "execution_count": null,
      "outputs": [
        {
          "output_type": "execute_result",
          "data": {
            "text/plain": [
              "[3, 1, -1]"
            ]
          },
          "metadata": {},
          "execution_count": 4
        }
      ]
    },
    {
      "cell_type": "code",
      "source": [
        "# Exercício\n",
        "\n",
        "'''\n",
        "  - Implemente os polinômios que serão apresentados como uma lista em Python.\n",
        "\n",
        "  - Para cada polinômio:\n",
        "    -- Se o grau for PAR, SOMAR os coeficientes.\n",
        "    -- Se o grau for IMPAR, contar os coeficientes.\n",
        "'''\n",
        "# Polinômios usando a classe Poly\n",
        "pe1 = x**2 + 2*x\n",
        "pe2 = -x**3 + 4*x\n",
        "pe3 = x**5 - x**4 + x/4+4\n",
        "\n",
        "polynomials = [sym.Poly(pe1), sym.Poly(pe2), sym.Poly(pe3)] # Lista dos polinômios, usando a classe Poly\n",
        "\n",
        "# polynomials = [pe1, pe2, pe3] # Lista dos polinômios\n",
        "\n",
        "\n",
        "# # Imprime todos os polinômios em LaTeX\n",
        "# for polynomial in polynomials:\n",
        "#     display(Math('%s' %sym.latex(polynomial)))\n",
        "\n",
        "# Extraindo as potências de cada termo do polinômio\n",
        "\n",
        "for poli in polynomials:\n",
        "  if poli.degree() %2 == 0:\n",
        "    display(\"O grau de %s é par, e a soma dos coeficientes é %g.\" %(sym.latex(poli.as_expr()),sum(poli.coeffs())))\n",
        "  else:\n",
        "    display(\"O grau de %s é impar, existem %g coeficientes\" %(sym.latex(poli.as_expr()),len(poli.coeffs())))\n"
      ],
      "metadata": {
        "colab": {
          "base_uri": "https://localhost:8080/",
          "height": 72
        },
        "id": "yH5-QTsIZF6V",
        "outputId": "e2cae9cc-20b4-4cbb-a411-04e34988d01a"
      },
      "execution_count": null,
      "outputs": [
        {
          "output_type": "display_data",
          "data": {
            "text/plain": [
              "'O grau de x^{2} + 2 x é par, e a soma dos coeficientes é 3.'"
            ],
            "application/vnd.google.colaboratory.intrinsic+json": {
              "type": "string"
            }
          },
          "metadata": {}
        },
        {
          "output_type": "display_data",
          "data": {
            "text/plain": [
              "'O grau de - x^{3} + 4 x é impar, existem 2 coeficientes'"
            ],
            "application/vnd.google.colaboratory.intrinsic+json": {
              "type": "string"
            }
          },
          "metadata": {}
        },
        {
          "output_type": "display_data",
          "data": {
            "text/plain": [
              "'O grau de x^{5} - x^{4} + \\\\frac{x}{4} + 4 é impar, existem 4 coeficientes'"
            ],
            "application/vnd.google.colaboratory.intrinsic+json": {
              "type": "string"
            }
          },
          "metadata": {}
        }
      ]
    },
    {
      "cell_type": "markdown",
      "source": [
        "# Graph's\n",
        "\n",
        "#### Graphing a rational function"
      ],
      "metadata": {
        "id": "N_96PN04qPbi"
      }
    },
    {
      "cell_type": "code",
      "source": [
        "import numpy as np\n",
        "from matplotlib import pyplot as plt\n",
        "\n",
        "x = np.linspace(-4,4,250)\n",
        "\n",
        "y1 = x**-1\n",
        "y2 = x**0\n",
        "y3 = x**1\n",
        "y4 = x**2\n",
        "y5 = x**3\n",
        "\n",
        "plt.plot(x, y1, 'm-')\n",
        "plt.plot(x, y2, 'r-')\n",
        "plt.plot(x, y3, 'k-')\n",
        "plt.plot(x, y4, 'b-')\n",
        "plt.plot(x, y5, 'g-')\n",
        "\n",
        "plt.show()\n"
      ],
      "metadata": {
        "id": "7HC4XuxFqZBE"
      },
      "execution_count": null,
      "outputs": []
    },
    {
      "cell_type": "code",
      "source": [
        "# Mais compacto\n",
        "\n",
        "x = np.linspace(-4,4, 150)\n",
        "e = range(-1, 4)\n",
        "\n",
        "for i in e:\n",
        "  y = x**i\n",
        "  plt.plot(x,y, label='$y=x^{%s}$' %i, linewidth=3.5)\n",
        "\n",
        "# Ajuste limites do gráfico\n",
        "\n",
        "plt.xlim([x[0], x[-1]])\n",
        "plt.ylim(-20, 20)\n",
        "\n",
        "plt.legend()\n",
        "plt.show"
      ],
      "metadata": {
        "colab": {
          "base_uri": "https://localhost:8080/",
          "height": 452
        },
        "id": "rCyW8jEFv0lF",
        "outputId": "c5110baa-0339-4d1f-8cd6-b7389884de0f"
      },
      "execution_count": null,
      "outputs": [
        {
          "output_type": "execute_result",
          "data": {
            "text/plain": [
              "<function matplotlib.pyplot.show(close=None, block=None)>"
            ]
          },
          "metadata": {},
          "execution_count": 7
        },
        {
          "output_type": "display_data",
          "data": {
            "text/plain": [
              "<Figure size 640x480 with 1 Axes>"
            ],
            "image/png": "[encoded data removed]"
          },
          "metadata": {}
        }
      ]
    },
    {
      "cell_type": "markdown",
      "source": [
        "# College Algebra in Python\n",
        "#### Revision on [This Video](https://www.youtube.com/watch?v=i7vOAcUo5iA&t=1072s); Disponable by [freeCodeCamp.org](https://www.youtube.com/@freecodecamp)"
      ],
      "metadata": {
        "id": "Fvqm-xinXaCA"
      }
    },
    {
      "cell_type": "code",
      "source": [
        "# Ratio func\n",
        "\n",
        "# Proportion f, n1/d1 = n2/d2\n",
        "\n",
        "n1,d1,n2,d2 = 7, 6, 0, 16\n",
        "\n",
        "if n2==0:\n",
        "  ans = d2 * n1 / d1\n",
        "  print(\"N2 =\", ans)\n",
        "\n",
        "if d2==0:\n",
        "  ans = n2 * d1/n1\n",
        "  print(\"D2 =\", ans)\n"
      ],
      "metadata": {
        "id": "o9-IcmxXxgji",
        "outputId": "63b62592-0fcf-42c7-b44b-b7acfddc0677",
        "colab": {
          "base_uri": "https://localhost:8080/"
        }
      },
      "execution_count": null,
      "outputs": [
        {
          "output_type": "stream",
          "name": "stdout",
          "text": [
            "N2 = 18.666666666666668\n"
          ]
        }
      ]
    },
    {
      "cell_type": "markdown",
      "source": [
        "## Numeros Mistos\n",
        "Um exemplo simples\n",
        "\n",
        "  $$1\\dfrac{2}{3} + 3\\dfrac{4}{5} - 7$$\n",
        "\n",
        "```python\n",
        "n_misto = 1 + 2/3 + 3 + 4/5 - 7\n",
        "```\n",
        "que ao colocar em alguma função de saída por exemplo recebemos +- o valor $-1.53...4$\n"
      ],
      "metadata": {
        "id": "NkMGNKLngC58"
      }
    },
    {
      "cell_type": "code",
      "source": [
        "n_misto = 1 + 2/3 + 3 + 4/5 - 7\n",
        "print(n_misto)"
      ],
      "metadata": {
        "id": "vqn68x6hhi-f",
        "outputId": "65e22e53-03e4-439b-882e-21936865264d",
        "colab": {
          "base_uri": "https://localhost:8080/"
        }
      },
      "execution_count": null,
      "outputs": [
        {
          "output_type": "stream",
          "name": "stdout",
          "text": [
            "-1.533333333333334\n"
          ]
        }
      ]
    },
    {
      "cell_type": "markdown",
      "source": [
        "## Numeros compostos\n",
        "\n",
        "Existem diversas maneiras de representar números compostos em Python, mas vou apresentar duas abordagens: uma fácil de entender e outra mais eficiente.\n",
        "\n",
        "- Uma maneira simples de representar números compostos é através de um loop que verifica todos os números menores que o número em questão para determinar se eles são divisores. Se houver mais de dois divisores, o número é composto.\n",
        "  ```python\n",
        "  def is_composite_easy(n):\n",
        "    if n <= 1:\n",
        "        return False\n",
        "    divisor_count = 0\n",
        "    for i in range(1, n+1):\n",
        "        if n % i == 0:\n",
        "            divisor_count += 1\n",
        "    return divisor_count > 2\n",
        "\n",
        "  ```\n",
        "- Uma abordagem mais eficiente é verificar os divisores até a raiz quadrada do número, pois não há necessidade de verificar além disso. Se um número é divisível por outro maior que sua raiz quadrada, então também seria divisível por um menor que sua raiz quadrada. Isso reduz o número de iterações necessárias.\n",
        "\n",
        "  ```python\n",
        "  import math\n",
        "\n",
        "  def is_composite_efficient(n):\n",
        "    if n <= 1:\n",
        "        return False\n",
        "    divisor_count = 0\n",
        "    for i in range(1, int(math.sqrt(n)) + 1):\n",
        "        if n % i == 0:\n",
        "            divisor_count += 1\n",
        "            if i != n // i:  # Para evitar contar duas vezes a raiz quadrada perfeita\n",
        "                divisor_count += 1\n",
        "        if divisor_count > 2:\n",
        "            return True\n",
        "    return False\n",
        "\n",
        "  ```"
      ],
      "metadata": {
        "id": "bFKmSxhhiGtt"
      }
    },
    {
      "cell_type": "code",
      "source": [
        "# Aqui usando o algoritmo eficiente, do qual precisa-se importar a lib Math já presente no pacote Python\n",
        "\n",
        "import math\n",
        "\n",
        "def is_composite_efficient(n):\n",
        "    if n <= 1:\n",
        "        return False\n",
        "    if n <= 3:\n",
        "        return False\n",
        "    if n % 2 == 0 or n % 3 == 0:\n",
        "        return True\n",
        "\n",
        "    i = 5\n",
        "    while i * i <= n:\n",
        "        if n % i == 0 or n % (i + 2) == 0:\n",
        "            return True\n",
        "        i += 6\n",
        "\n",
        "    return False\n",
        "\n",
        "# Criar uma variável contendo um número composto (por exemplo, 15)\n",
        "numero_composto = 11\n",
        "\n",
        "# Verificar se o número é composto usando a função eficiente\n",
        "if is_composite_efficient(numero_composto):\n",
        "    print(f\"{numero_composto} é um número composto.\")\n",
        "else:\n",
        "    print(f\"{numero_composto} não é um número composto.\")\n"
      ],
      "metadata": {
        "id": "fajMXxnFkbMc",
        "outputId": "ce37af1f-23c5-400f-c90e-6561f9c946ed",
        "colab": {
          "base_uri": "https://localhost:8080/"
        }
      },
      "execution_count": null,
      "outputs": [
        {
          "output_type": "stream",
          "name": "stdout",
          "text": [
            "11 não é um número composto.\n"
          ]
        }
      ]
    },
    {
      "cell_type": "code",
      "source": [
        "# Um código mais interativo usando quase a mesma premissa do algoritmo anterior:\n",
        "# A linha import math estará comentada devido não precisar ser importada duas vezes.\n",
        "\n",
        "# import math\n",
        "\n",
        "n = int(input(\"Digite um número: \"))\n",
        "\n",
        "composto = False\n",
        "\n",
        "for i in range(2, int(math.sqrt(n)) + 1):\n",
        "  if n % i == 0:\n",
        "    composto = True\n",
        "    break\n",
        "\n",
        "if composto:\n",
        "  print(n, \"é um número composto.\")\n",
        "else:\n",
        "  print(n, \"é um número primo.\")\n"
      ],
      "metadata": {
        "id": "LJhLk4ldlkmy",
        "outputId": "171482c3-29b8-4f80-9236-ca5c2866bab1",
        "colab": {
          "base_uri": "https://localhost:8080/"
        }
      },
      "execution_count": null,
      "outputs": [
        {
          "output_type": "stream",
          "name": "stdout",
          "text": [
            "Digite um número: 15\n",
            "15 é um número composto.\n"
          ]
        }
      ]
    },
    {
      "cell_type": "markdown",
      "source": [
        "Solving for $x$. The variable `eq` is the equation set equal to zero. This will print an array of solutions."
      ],
      "metadata": {
        "id": "y1TsE4QhpkLI"
      }
    },
    {
      "cell_type": "code",
      "source": [
        "import sympy\n",
        "from sympy import symbols\n",
        "from sympy.solvers import solve\n",
        "\n",
        "r = symbols('r')\n",
        "\n",
        "# Eq here\n",
        "eq = r - 2\n",
        "print(\"r = \", solve(eq,x))"
      ],
      "metadata": {
        "id": "srNKzTdppiI6",
        "outputId": "e6ff5c39-bf29-4865-ebae-fecfe1195feb",
        "colab": {
          "base_uri": "https://localhost:8080/"
        }
      },
      "execution_count": null,
      "outputs": [
        {
          "output_type": "stream",
          "name": "stdout",
          "text": [
            "r =  []\n"
          ]
        }
      ]
    }
  ]
}